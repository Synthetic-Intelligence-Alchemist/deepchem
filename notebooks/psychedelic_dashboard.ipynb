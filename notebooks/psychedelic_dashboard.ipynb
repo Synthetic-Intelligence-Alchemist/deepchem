{
 "cells": [
  {
   "cell_type": "markdown",
   "id": "ac7324e8",
   "metadata": {},
   "source": [
    "# 🧬 Psychedelic Therapeutics Dashboard\n",
    "\n",
    "## Interactive analysis of psychedelic compounds with 2D analytics and 3D molecular visualization\n",
    "\n",
    "This notebook demonstrates the complete pipeline for analyzing psychedelic compounds, computing molecular descriptors, and creating both 2D and 3D visualizations."
   ]
  },
  {
   "cell_type": "code",
   "execution_count": null,
   "id": "cec88446",
   "metadata": {},
   "outputs": [],
   "source": [
    "# Import required libraries\n",
    "import pandas as pd\n",
    "import numpy as np\n",
    "import matplotlib.pyplot as plt\n",
    "import seaborn as sns\n",
    "from pathlib import Path\n",
    "import sys\n",
    "import warnings\n",
    "warnings.filterwarnings('ignore')\n",
    "\n",
    "# Add src directory to path\n",
    "src_path = Path('../src')\n",
    "sys.path.insert(0, str(src_path.absolute()))\n",
    "\n",
    "# Import our custom modules\n",
    "from data import load_demo, validate_smiles_column\n",
    "from descriptors import compute, get_descriptor_stats\n",
    "from viz2d import plot_dashboard, plot_correlation_heatmap, plot_class_comparison\n",
    "from viz3d import smiles_to_3d_viewer, smiles_to_molblock, batch_convert_to_sdf\n",
    "\n",
    "print(\"✅ All imports successful!\")"
   ]
  },
  {
   "cell_type": "markdown",
   "id": "86deccd0",
   "metadata": {},
   "source": [
    "## 1. Data Loading and Validation"
   ]
  },
  {
   "cell_type": "code",
   "execution_count": null,
   "id": "a1ccd005",
   "metadata": {},
   "outputs": [],
   "source": [
    "# Load demo dataset\n",
    "print(\"📊 Loading psychedelic compounds dataset...\")\n",
    "df = load_demo()\n",
    "\n",
    "print(f\"Loaded {len(df)} compounds\")\n",
    "print(f\"Compound classes: {', '.join(df['class'].unique())}\")\n",
    "\n",
    "# Display the dataset\n",
    "df"
   ]
  },
  {
   "cell_type": "code",
   "execution_count": null,
   "id": "f8d31950",
   "metadata": {},
   "outputs": [],
   "source": [
    "# Validate SMILES strings\n",
    "print(\"🔍 Validating SMILES strings...\")\n",
    "validate_smiles_column(df)\n",
    "print(\"✅ All SMILES strings are valid!\")"
   ]
  },
  {
   "cell_type": "markdown",
   "id": "44fd854e",
   "metadata": {},
   "source": [
    "## 2. Molecular Descriptor Calculation"
   ]
  },
  {
   "cell_type": "code",
   "execution_count": null,
   "id": "320085a6",
   "metadata": {},
   "outputs": [],
   "source": [
    "# Compute molecular descriptors\n",
    "print(\"⚗️ Computing molecular descriptors...\")\n",
    "df_with_descriptors = compute(df)\n",
    "\n",
    "print(\"✅ Descriptors computed successfully!\")\n",
    "\n",
    "# Display results\n",
    "display_cols = ['name', 'class', 'mw', 'logp', 'tpsa', 'hbd', 'hba', 'drug_likeness', 'bbb_label']\n",
    "df_with_descriptors[display_cols]"
   ]
  },
  {
   "cell_type": "code",
   "execution_count": null,
   "id": "f14bc2fb",
   "metadata": {},
   "outputs": [],
   "source": [
    "# Get summary statistics\n",
    "stats = get_descriptor_stats(df_with_descriptors)\n",
    "\n",
    "print(\"📊 Molecular Descriptor Summary:\")\n",
    "print(f\"Molecular Weight: {stats['mw']['min']:.1f} - {stats['mw']['max']:.1f} Da (avg: {stats['mw']['mean']:.1f})\")\n",
    "print(f\"LogP: {stats['logp']['min']:.2f} - {stats['logp']['max']:.2f} (avg: {stats['logp']['mean']:.2f})\")\n",
    "print(f\"TPSA: {stats['tpsa']['min']:.1f} - {stats['tpsa']['max']:.1f} Ų (avg: {stats['tpsa']['mean']:.1f})\")\n",
    "print(f\"Drug-likeness: {stats['drug_likeness']['min']:.2f} - {stats['drug_likeness']['max']:.2f} (avg: {stats['drug_likeness']['mean']:.2f})\")\n",
    "\n",
    "# BBB penetration distribution\n",
    "bbb_counts = df_with_descriptors['bbb_label'].value_counts()\n",
    "print(f\"\\n🧠 BBB Penetration Prediction:\")\n",
    "for label, count in bbb_counts.items():\n",
    "    percentage = (count / len(df_with_descriptors)) * 100\n",
    "    print(f\"   {label}: {count} compounds ({percentage:.1f}%)\")"
   ]
  },
  {
   "cell_type": "markdown",
   "id": "76132880",
   "metadata": {},
   "source": [
    "## 3. 2D Visualization Dashboard"
   ]
  },
  {
   "cell_type": "code",
   "execution_count": null,
   "id": "acd23b6c",
   "metadata": {},
   "outputs": [],
   "source": [
    "# Generate main dashboard\n",
    "print(\"📈 Creating 2D analysis dashboard...\")\n",
    "dashboard_path = plot_dashboard(df_with_descriptors)\n",
    "\n",
    "# Display the dashboard in notebook\n",
    "from IPython.display import Image, display\n",
    "display(Image(dashboard_path))"
   ]
  },
  {
   "cell_type": "code",
   "execution_count": null,
   "id": "644276c1",
   "metadata": {},
   "outputs": [],
   "source": [
    "# Generate correlation heatmap\n",
    "print(\"🔥 Creating correlation heatmap...\")\n",
    "heatmap_path = plot_correlation_heatmap(df_with_descriptors)\n",
    "\n",
    "# Display heatmap\n",
    "display(Image(heatmap_path))"
   ]
  },
  {
   "cell_type": "code",
   "execution_count": null,
   "id": "2699c2c4",
   "metadata": {},
   "outputs": [],
   "source": [
    "# Generate class comparison plots\n",
    "print(\"📊 Creating class comparison plots...\")\n",
    "comparison_path = plot_class_comparison(df_with_descriptors)\n",
    "\n",
    "# Display comparison plots\n",
    "display(Image(comparison_path))"
   ]
  },
  {
   "cell_type": "markdown",
   "id": "5dabe5b6",
   "metadata": {},
   "source": [
    "## 4. 3D Molecular Visualization\n",
    "\n",
    "Now let's create interactive 3D visualizations of our psychedelic compounds."
   ]
  },
  {
   "cell_type": "code",
   "execution_count": null,
   "id": "984c6dd4",
   "metadata": {},
   "outputs": [],
   "source": [
    "# Select a representative compound for 3D visualization\n",
    "# Let's use 2C-B as our example\n",
    "compound_name = \"2C-B\"\n",
    "compound_data = df_with_descriptors[df_with_descriptors['name'] == compound_name].iloc[0]\n",
    "\n",
    "print(f\"🧬 Creating 3D visualization for {compound_name}\")\n",
    "print(f\"SMILES: {compound_data['smiles']}\")\n",
    "print(f\"Class: {compound_data['class']}\")\n",
    "print(f\"MW: {compound_data['mw']:.1f} Da\")\n",
    "print(f\"LogP: {compound_data['logp']:.2f}\")\n",
    "print(f\"TPSA: {compound_data['tpsa']:.1f} Ų\")\n",
    "print(f\"Drug-likeness: {compound_data['drug_likeness']:.2f}\")\n",
    "print(f\"BBB: {compound_data['bbb_label']}\")"
   ]
  },
  {
   "cell_type": "code",
   "execution_count": null,
   "id": "19b5aecd",
   "metadata": {},
   "outputs": [],
   "source": [
    "# Create 3D viewer for 2C-B\n",
    "smiles_2cb = compound_data['smiles']\n",
    "\n",
    "# Generate 3D structure\n",
    "view_2cb = smiles_to_3d_viewer(smiles_2cb, width=800, height=600, style=\"stick\")\n",
    "\n",
    "if view_2cb is not None:\n",
    "    print(\"✅ 3D structure generated successfully!\")\n",
    "    view_2cb.show()\n",
    "else:\n",
    "    print(\"❌ Failed to generate 3D structure\")"
   ]
  },
  {
   "cell_type": "code",
   "execution_count": null,
   "id": "a7f6f17e",
   "metadata": {},
   "outputs": [],
   "source": [
    "# Create 3D viewers for multiple compounds with different styles\n",
    "compounds_to_show = [\"2C-B\", \"2C-I\", \"DOB\", \"Mescaline\"]\n",
    "styles = [\"stick\", \"sphere\", \"line\", \"stick\"]\n",
    "\n",
    "for compound_name, style in zip(compounds_to_show, styles):\n",
    "    if compound_name in df_with_descriptors['name'].values:\n",
    "        compound_row = df_with_descriptors[df_with_descriptors['name'] == compound_name].iloc[0]\n",
    "        smiles = compound_row['smiles']\n",
    "        \n",
    "        print(f\"\\n🧬 {compound_name} ({style} style):\")\n",
    "        \n",
    "        view = smiles_to_3d_viewer(smiles, width=600, height=400, style=style)\n",
    "        if view is not None:\n",
    "            view.show()\n",
    "        else:\n",
    "            print(f\"❌ Failed to generate 3D structure for {compound_name}\")"
   ]
  },
  {
   "cell_type": "markdown",
   "id": "cd20ce5a",
   "metadata": {},
   "source": [
    "## 5. Export to SDF Format"
   ]
  },
  {
   "cell_type": "code",
   "execution_count": null,
   "id": "f4a90d93",
   "metadata": {},
   "outputs": [],
   "source": [
    "# Convert all compounds to 3D and export to SDF\n",
    "print(\"💾 Converting all compounds to 3D and exporting to SDF...\")\n",
    "\n",
    "try:\n",
    "    sdf_path = batch_convert_to_sdf(\n",
    "        df_with_descriptors, \n",
    "        smiles_col='smiles', \n",
    "        name_col='name', \n",
    "        output_file='psychedelic_compounds_3d.sdf'\n",
    "    )\n",
    "    print(f\"✅ SDF export successful: {sdf_path}\")\n",
    "    \n",
    "    # Show file size\n",
    "    from pathlib import Path\n",
    "    sdf_file = Path(sdf_path)\n",
    "    if sdf_file.exists():\n",
    "        file_size = sdf_file.stat().st_size\n",
    "        print(f\"File size: {file_size:,} bytes\")\n",
    "        \n",
    "except Exception as e:\n",
    "    print(f\"❌ SDF export failed: {str(e)}\")"
   ]
  },
  {
   "cell_type": "markdown",
   "id": "b3f7febc",
   "metadata": {},
   "source": [
    "## 6. Compound Analysis Summary"
   ]
  },
  {
   "cell_type": "code",
   "execution_count": null,
   "id": "19b79e31",
   "metadata": {},
   "outputs": [],
   "source": [
    "# Create comprehensive analysis summary\n",
    "print(\"📋 PSYCHEDELIC THERAPEUTICS ANALYSIS SUMMARY\")\n",
    "print(\"=\" * 60)\n",
    "\n",
    "print(f\"\\n📊 Dataset Overview:\")\n",
    "print(f\"   • Total compounds: {len(df_with_descriptors)}\")\n",
    "print(f\"   • Compound classes: {df_with_descriptors['class'].nunique()}\")\n",
    "print(f\"   • Classes: {', '.join(df_with_descriptors['class'].unique())}\")\n",
    "\n",
    "# Top compounds by drug-likeness\n",
    "print(f\"\\n🏆 Top Compounds by Drug-likeness:\")\n",
    "top_compounds = df_with_descriptors.nlargest(5, 'drug_likeness')\n",
    "for idx, (_, row) in enumerate(top_compounds.iterrows(), 1):\n",
    "    print(f\"   {idx}. {row['name']} ({row['class']}): {row['drug_likeness']:.2f}\")\n",
    "\n",
    "# CNS-favorable compounds\n",
    "cns_favorable = df_with_descriptors[df_with_descriptors['bbb_label'] == 'Good BBB']\n",
    "print(f\"\\n🧠 CNS-Favorable Compounds ({len(cns_favorable)}):\")\n",
    "for _, row in cns_favorable.iterrows():\n",
    "    print(f\"   • {row['name']}: TPSA = {row['tpsa']:.1f} Ų, Drug-likeness = {row['drug_likeness']:.2f}\")\n",
    "\n",
    "# Class-wise analysis\n",
    "print(f\"\\n📈 Class-wise Analysis:\")\n",
    "class_summary = df_with_descriptors.groupby('class').agg({\n",
    "    'mw': 'mean',\n",
    "    'logp': 'mean', \n",
    "    'tpsa': 'mean',\n",
    "    'drug_likeness': 'mean'\n",
    "}).round(2)\n",
    "\n",
    "for class_name, row in class_summary.iterrows():\n",
    "    print(f\"   • {class_name}:\")\n",
    "    print(f\"     - Avg MW: {row['mw']:.1f} Da\")\n",
    "    print(f\"     - Avg LogP: {row['logp']:.2f}\")\n",
    "    print(f\"     - Avg TPSA: {row['tpsa']:.1f} Ų\")\n",
    "    print(f\"     - Avg Drug-likeness: {row['drug_likeness']:.2f}\")\n",
    "\n",
    "print(f\"\\n🎯 Key Insights:\")\n",
    "print(f\"   • Best overall compound: {top_compounds.iloc[0]['name']} (drug-likeness: {top_compounds.iloc[0]['drug_likeness']:.2f})\")\n",
    "print(f\"   • Most CNS-favorable class: {cns_favorable['class'].mode().iloc[0] if len(cns_favorable) > 0 else 'None'}\")\n",
    "print(f\"   • Average molecular weight: {df_with_descriptors['mw'].mean():.1f} Da\")\n",
    "print(f\"   • BBB penetration success rate: {len(cns_favorable)/len(df_with_descriptors)*100:.1f}%\")\n",
    "\n",
    "print(f\"\\n✅ Analysis completed successfully!\")"
   ]
  },
  {
   "cell_type": "markdown",
   "id": "ada9a04d",
   "metadata": {},
   "source": [
    "## 7. Interactive Exploration\n",
    "\n",
    "Use the cells below to explore specific compounds or test custom SMILES strings."
   ]
  },
  {
   "cell_type": "code",
   "execution_count": null,
   "id": "c87888f4",
   "metadata": {},
   "outputs": [],
   "source": [
    "# Interactive compound explorer\n",
    "# Change the compound name to explore different molecules\n",
    "explore_compound = \"2C-I\"  # Try: \"2C-B\", \"2C-I\", \"DOB\", \"DOM\", \"Mescaline\", etc.\n",
    "\n",
    "if explore_compound in df_with_descriptors['name'].values:\n",
    "    compound = df_with_descriptors[df_with_descriptors['name'] == explore_compound].iloc[0]\n",
    "    \n",
    "    print(f\"🔍 Exploring: {compound['name']}\")\n",
    "    print(f\"Class: {compound['class']}\")\n",
    "    print(f\"SMILES: {compound['smiles']}\")\n",
    "    print(f\"Molecular Weight: {compound['mw']:.1f} Da\")\n",
    "    print(f\"LogP: {compound['logp']:.2f}\")\n",
    "    print(f\"TPSA: {compound['tpsa']:.1f} Ų\")\n",
    "    print(f\"Drug-likeness: {compound['drug_likeness']:.2f}\")\n",
    "    print(f\"BBB Penetration: {compound['bbb_label']}\")\n",
    "    \n",
    "    # Create 3D viewer\n",
    "    view = smiles_to_3d_viewer(compound['smiles'], width=700, height=500)\n",
    "    if view:\n",
    "        view.show()\n",
    "else:\n",
    "    print(f\"❌ Compound '{explore_compound}' not found in dataset\")\n",
    "    print(f\"Available compounds: {', '.join(df_with_descriptors['name'].tolist())}\")"
   ]
  },
  {
   "cell_type": "code",
   "execution_count": null,
   "id": "8aea8b02",
   "metadata": {},
   "outputs": [],
   "source": [
    "# Test custom SMILES\n",
    "# Enter your own SMILES string to analyze\n",
    "custom_smiles = \"CCc1cc(F)c(OCc2ccccc2)c(F)c1CCN\"  # Example: 2C-B with fluorine instead of bromine\n",
    "\n",
    "print(f\"🧪 Analyzing custom SMILES: {custom_smiles}\")\n",
    "\n",
    "from descriptors import smiles_to_mol, calculate_descriptors, calculate_drug_likeness, bbb_label\n",
    "\n",
    "# Validate and analyze\n",
    "mol = smiles_to_mol(custom_smiles)\n",
    "if mol is not None:\n",
    "    descriptors = calculate_descriptors(mol)\n",
    "    drug_likeness = calculate_drug_likeness(descriptors)\n",
    "    bbb = bbb_label(descriptors['tpsa'])\n",
    "    \n",
    "    print(f\"✅ Valid SMILES - Analysis completed:\")\n",
    "    print(f\"   • Molecular Weight: {descriptors['mw']:.1f} Da\")\n",
    "    print(f\"   • LogP: {descriptors['logp']:.2f}\")\n",
    "    print(f\"   • TPSA: {descriptors['tpsa']:.1f} Ų\")\n",
    "    print(f\"   • H-bond donors: {descriptors['hbd']:.0f}\")\n",
    "    print(f\"   • H-bond acceptors: {descriptors['hba']:.0f}\")\n",
    "    print(f\"   • Rotatable bonds: {descriptors['rotb']:.0f}\")\n",
    "    print(f\"   • Drug-likeness: {drug_likeness:.2f}\")\n",
    "    print(f\"   • BBB Penetration: {bbb}\")\n",
    "    \n",
    "    # Create 3D viewer\n",
    "    print(f\"\\n🧬 3D Structure:\")\n",
    "    view = smiles_to_3d_viewer(custom_smiles, width=600, height=400)\n",
    "    if view:\n",
    "        view.show()\n",
    "    else:\n",
    "        print(\"❌ Could not generate 3D structure\")\n",
    "        \n",
    "else:\n",
    "    print(f\"❌ Invalid SMILES string: {custom_smiles}\")"
   ]
  },
  {
   "cell_type": "markdown",
   "id": "d6ab77ae",
   "metadata": {},
   "source": [
    "## Conclusion\n",
    "\n",
    "This notebook demonstrates a complete pipeline for analyzing psychedelic compounds:\n",
    "\n",
    "1. **Data Loading**: Load psychedelic compound datasets with SMILES structures\n",
    "2. **Descriptor Calculation**: Compute molecular properties including drug-likeness and BBB penetration\n",
    "3. **2D Visualization**: Create comprehensive analysis dashboards\n",
    "4. **3D Visualization**: Generate interactive molecular viewers\n",
    "5. **Export**: Save structures to SDF format for further analysis\n",
    "\n",
    "### Key Features:\n",
    "- ✅ **Comprehensive molecular analysis** with RDKit\n",
    "- ✅ **Interactive 3D visualization** with py3Dmol\n",
    "- ✅ **Drug-likeness assessment** based on Lipinski's rules\n",
    "- ✅ **BBB penetration prediction** for CNS applications\n",
    "- ✅ **Export capabilities** for computational chemistry workflows\n",
    "\n",
    "### Next Steps:\n",
    "- Run the Streamlit app: `streamlit run app/streamlit_app.py`\n",
    "- Explore the command-line pipeline: `python -m src.pipeline`\n",
    "- Customize with your own compound datasets\n",
    "- Integrate with molecular docking workflows\n",
    "\n",
    "🧬 **Happy molecular modeling!** 🚀"
   ]
  }
 ],
 "metadata": {
  "language_info": {
   "name": "python"
  }
 },
 "nbformat": 4,
 "nbformat_minor": 5
}
